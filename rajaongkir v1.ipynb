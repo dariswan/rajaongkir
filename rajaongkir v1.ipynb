{
 "cells": [
  {
   "cell_type": "markdown",
   "metadata": {},
   "source": [
    "### Import libraries"
   ]
  },
  {
   "cell_type": "code",
   "execution_count": 1,
   "metadata": {},
   "outputs": [],
   "source": [
    "import http.client\n",
    "import json\n",
    "import pandas as pd\n",
    "from difflib import SequenceMatcher"
   ]
  },
  {
   "cell_type": "markdown",
   "metadata": {},
   "source": [
    "### Initial Setup"
   ]
  },
  {
   "cell_type": "code",
   "execution_count": 2,
   "metadata": {},
   "outputs": [],
   "source": [
    "#access API key can be taken by registering account from https://rajaongkir.com/\n",
    "#This API key using Account starter (limited function) \n",
    "\n",
    "api_key = [YOUR API KEY]\n",
    "conn = http.client.HTTPSConnection(\"api.rajaongkir.com\")"
   ]
  },
  {
   "cell_type": "markdown",
   "metadata": {},
   "source": [
    "### Functions scraping city information"
   ]
  },
  {
   "cell_type": "code",
   "execution_count": 3,
   "metadata": {},
   "outputs": [],
   "source": [
    "#this function request all list of city information from API, which is saved in json and retrived in take_city() function\n",
    "def req_city():\n",
    "    headers = { 'key': api_key } #your API key\n",
    "    conn.request(\"GET\", \"/starter/city?\", headers=headers)\n",
    "\n",
    "    res = conn.getresponse()\n",
    "    data = res.read()\n",
    "    json_object = json.loads(data) #convert to json (dict)\n",
    "    conn.close() #dont forget close connection for avoid confusion\n",
    "    return json_object   \n",
    "\n",
    "#this function compute similarity between query by user and list of city\n",
    "def similar_city_string(q, list_city):\n",
    "    return SequenceMatcher(None, q, list_city).ratio()\n",
    "\n",
    "#this function return id of parameter/query city, which take data from function req_city(), if there is no data match\n",
    "#then compute similarity query with all city name, then retrive some cityname that have big value similarity\n",
    "def take_city_id(city_search):\n",
    "    data_city = req_city()['rajaongkir']['results'] #take list of city\n",
    "    id_city = 0\n",
    "    similar_city = [] #this variabel will be filled by similar city name\n",
    "    for city in data_city:\n",
    "        if city['city_name'].lower()==city_search.lower(): #pass casesensitive\n",
    "            id_city=city['city_id']\n",
    "        else:\n",
    "            score = similar_city_string(city['city_name'].lower(),city_search.lower()) #compute score similarity\n",
    "            similar_city.append(city['city_name']) if score>=0.65 else None #tolerance score more than 65% similarity\n",
    "    \n",
    "    #return id if have exact city, if not,then return some some city name that have 65% name similarity\n",
    "    return id_city if id_city !=0 else print(city_search+' tidak ditemukan !! \\ndid you mean '+', '.join(map(str, similar_city)))"
   ]
  },
  {
   "cell_type": "markdown",
   "metadata": {},
   "source": [
    "### Functions scraping cost information"
   ]
  },
  {
   "cell_type": "code",
   "execution_count": 4,
   "metadata": {},
   "outputs": [],
   "source": [
    "#This function for computation cost passed some parameter that will be filled from user_interface()\n",
    "def req_cost(origin,destination,weight,courier):\n",
    "    payload = \"origin=\"+str(origin)+\"&destination=\"+str(destination)+\"&weight=\"+str(weight)+\"&courier=\"+str(courier)\n",
    "    headers = {\n",
    "        'key': api_key, #your API key\n",
    "        'content-type': \"application/x-www-form-urlencoded\"\n",
    "        }\n",
    "\n",
    "    conn.request(\"POST\", \"/starter/cost\", payload, headers) #request data\n",
    "    res = conn.getresponse()\n",
    "    data = res.read()\n",
    "    json_object = json.loads(data) #convert to json (dict)\n",
    "    conn.close() #dont forget close connection for avoid confusion\n",
    "    return json_object\n",
    "\n",
    "#this function for user interface where user can interact (input/output) information\n",
    "def user_interface():\n",
    "    while True: #looping until origin city has same exact name with city from API\n",
    "      try:\n",
    "        origin = int(take_city_id(input('Kota/Kabupaten asal\\t: ')))\n",
    "        if origin > 0: break #if origin has value integer and more than 0, than ID is retrived\n",
    "      except Exception as e:\n",
    "        print(\"Silahkan ulang kembali !!\\n\")\n",
    "    while True: #looping until origin city has same exact name with city from API\n",
    "      try:\n",
    "        destination = int(take_city_id(input('Kota/Kabupaten tujuan \\t: ')))\n",
    "        if destination > 0: break #if origin has value integer and more than 0, than ID is retrived\n",
    "      except Exception as e:\n",
    "        print(\"Silahkan ulang kembali !!\\n\")\n",
    "    weight = float(input('Berat barang(Kg) \\t: '))*1000\n",
    "    courier = input('Kurir (JNE/POS/TIKI) \\t: ').lower()\n",
    "    \n",
    "    #call function req_cost for computing shipping costs\n",
    "    cost = req_cost(origin,destination,weight,courier)\n",
    "    \n",
    "    #condition if some format input not falid or data isn't avaliable\n",
    "    if cost['rajaongkir']['status']['code'] == 400:\n",
    "        print('\\nInformasi gagal ('+cost['rajaongkir']['status']['description']+')')\n",
    "        \n",
    "    #condition if all data valid, then retireve summary information into DataFrame \n",
    "    elif cost['rajaongkir']['status']['code'] == 200:\n",
    "        list_data = []\n",
    "        for result in cost['rajaongkir']['results'][0]['costs']:\n",
    "            col_origin = cost['rajaongkir']['origin_details']['type']+' '+cost['rajaongkir']['origin_details']['city_name']+'-'+cost['rajaongkir']['origin_details']['province']+' ('+cost['rajaongkir']['origin_details']['postal_code']+')'\n",
    "            col_destinat = cost['rajaongkir']['destination_details']['type']+' '+cost['rajaongkir']['destination_details']['city_name']+'-'+cost['rajaongkir']['destination_details']['province']+' ('+cost['rajaongkir']['destination_details']['postal_code']+')'\n",
    "            col_service = cost['rajaongkir']['results'][0]['code']+'-'+result['service']\n",
    "            col_description = result['description']\n",
    "            col_cost = 'Rp.'+str(result['cost'][0]['value'])\n",
    "            col_etd = result['cost'][0]['etd']+' days'\n",
    "            list_data.append([col_origin,col_destinat,col_service,col_description,col_cost,col_etd])\n",
    "        pd_cost= pd.DataFrame(list_data, columns=['Asal','Tujuan','Tipe Kurir', 'Deskripsi tipe', 'Biaya', 'Estimasi pengiriman'])\n",
    "        display(pd_cost)\n",
    "    \n",
    "    #condition else/bad connection request\n",
    "    else: \n",
    "        print('\\nBad request')"
   ]
  },
  {
   "cell_type": "markdown",
   "metadata": {},
   "source": [
    "# User interface"
   ]
  },
  {
   "cell_type": "markdown",
   "metadata": {},
   "source": [
    "#### demo 1"
   ]
  },
  {
   "cell_type": "code",
   "execution_count": 5,
   "metadata": {},
   "outputs": [
    {
     "name": "stdout",
     "output_type": "stream",
     "text": [
      "Kota/Kabupaten asal\t: malang\n",
      "Kota/Kabupaten tujuan \t: surabaya\n",
      "Berat barang(Kg) \t: 1.7\n",
      "Kurir (JNE/POS/TIKI) \t: jne\n"
     ]
    },
    {
     "data": {
      "text/html": [
       "<div>\n",
       "<style scoped>\n",
       "    .dataframe tbody tr th:only-of-type {\n",
       "        vertical-align: middle;\n",
       "    }\n",
       "\n",
       "    .dataframe tbody tr th {\n",
       "        vertical-align: top;\n",
       "    }\n",
       "\n",
       "    .dataframe thead th {\n",
       "        text-align: right;\n",
       "    }\n",
       "</style>\n",
       "<table border=\"1\" class=\"dataframe\">\n",
       "  <thead>\n",
       "    <tr style=\"text-align: right;\">\n",
       "      <th></th>\n",
       "      <th>Asal</th>\n",
       "      <th>Tujuan</th>\n",
       "      <th>Tipe Kurir</th>\n",
       "      <th>Deskripsi tipe</th>\n",
       "      <th>Biaya</th>\n",
       "      <th>Estimasi pengiriman</th>\n",
       "    </tr>\n",
       "  </thead>\n",
       "  <tbody>\n",
       "    <tr>\n",
       "      <th>0</th>\n",
       "      <td>Kota Malang-Jawa Timur (65112)</td>\n",
       "      <td>Kota Surabaya-Jawa Timur (60119)</td>\n",
       "      <td>jne-OKE</td>\n",
       "      <td>Ongkos Kirim Ekonomis</td>\n",
       "      <td>Rp.14000</td>\n",
       "      <td>2-3 days</td>\n",
       "    </tr>\n",
       "    <tr>\n",
       "      <th>1</th>\n",
       "      <td>Kota Malang-Jawa Timur (65112)</td>\n",
       "      <td>Kota Surabaya-Jawa Timur (60119)</td>\n",
       "      <td>jne-REG</td>\n",
       "      <td>Layanan Reguler</td>\n",
       "      <td>Rp.16000</td>\n",
       "      <td>1-2 days</td>\n",
       "    </tr>\n",
       "    <tr>\n",
       "      <th>2</th>\n",
       "      <td>Kota Malang-Jawa Timur (65112)</td>\n",
       "      <td>Kota Surabaya-Jawa Timur (60119)</td>\n",
       "      <td>jne-YES</td>\n",
       "      <td>Yakin Esok Sampai</td>\n",
       "      <td>Rp.28000</td>\n",
       "      <td>1-1 days</td>\n",
       "    </tr>\n",
       "  </tbody>\n",
       "</table>\n",
       "</div>"
      ],
      "text/plain": [
       "                             Asal                            Tujuan  \\\n",
       "0  Kota Malang-Jawa Timur (65112)  Kota Surabaya-Jawa Timur (60119)   \n",
       "1  Kota Malang-Jawa Timur (65112)  Kota Surabaya-Jawa Timur (60119)   \n",
       "2  Kota Malang-Jawa Timur (65112)  Kota Surabaya-Jawa Timur (60119)   \n",
       "\n",
       "  Tipe Kurir         Deskripsi tipe     Biaya Estimasi pengiriman  \n",
       "0    jne-OKE  Ongkos Kirim Ekonomis  Rp.14000            2-3 days  \n",
       "1    jne-REG        Layanan Reguler  Rp.16000            1-2 days  \n",
       "2    jne-YES      Yakin Esok Sampai  Rp.28000            1-1 days  "
      ]
     },
     "metadata": {},
     "output_type": "display_data"
    }
   ],
   "source": [
    "user_interface()"
   ]
  },
  {
   "cell_type": "markdown",
   "metadata": {},
   "source": [
    "#### demo 2"
   ]
  },
  {
   "cell_type": "code",
   "execution_count": 6,
   "metadata": {},
   "outputs": [
    {
     "name": "stdout",
     "output_type": "stream",
     "text": [
      "Kota/Kabupaten asal\t: karta\n",
      "karta tidak ditemukan !! \n",
      "did you mean Karo, Kaur, Purwakarta, Yogyakarta\n",
      "Silahkan ulang kembali !!\n",
      "\n",
      "Kota/Kabupaten asal\t: purwakarta\n",
      "Kota/Kabupaten tujuan \t: JAKARTA\n",
      "JAKARTA tidak ditemukan !! \n",
      "did you mean Jakarta Barat, Jakarta Pusat, Jakarta Timur, Jakarta Utara, Jayapura, Jayapura, Purwakarta, Yogyakarta\n",
      "Silahkan ulang kembali !!\n",
      "\n",
      "Kota/Kabupaten tujuan \t: Jakarta Utara\n",
      "Berat barang(Kg) \t: 2.4\n",
      "Kurir (JNE/POS/TIKI) \t: pos\n"
     ]
    },
    {
     "data": {
      "text/html": [
       "<div>\n",
       "<style scoped>\n",
       "    .dataframe tbody tr th:only-of-type {\n",
       "        vertical-align: middle;\n",
       "    }\n",
       "\n",
       "    .dataframe tbody tr th {\n",
       "        vertical-align: top;\n",
       "    }\n",
       "\n",
       "    .dataframe thead th {\n",
       "        text-align: right;\n",
       "    }\n",
       "</style>\n",
       "<table border=\"1\" class=\"dataframe\">\n",
       "  <thead>\n",
       "    <tr style=\"text-align: right;\">\n",
       "      <th></th>\n",
       "      <th>Asal</th>\n",
       "      <th>Tujuan</th>\n",
       "      <th>Tipe Kurir</th>\n",
       "      <th>Deskripsi tipe</th>\n",
       "      <th>Biaya</th>\n",
       "      <th>Estimasi pengiriman</th>\n",
       "    </tr>\n",
       "  </thead>\n",
       "  <tbody>\n",
       "    <tr>\n",
       "      <th>0</th>\n",
       "      <td>Kabupaten Purwakarta-Jawa Barat (41119)</td>\n",
       "      <td>Kota Jakarta Utara-DKI Jakarta (14140)</td>\n",
       "      <td>pos-Paket Kilat Khusus</td>\n",
       "      <td>Paket Kilat Khusus</td>\n",
       "      <td>Rp.33000</td>\n",
       "      <td>1-2 HARI days</td>\n",
       "    </tr>\n",
       "    <tr>\n",
       "      <th>1</th>\n",
       "      <td>Kabupaten Purwakarta-Jawa Barat (41119)</td>\n",
       "      <td>Kota Jakarta Utara-DKI Jakarta (14140)</td>\n",
       "      <td>pos-Express Next Day Barang</td>\n",
       "      <td>Express Next Day Barang</td>\n",
       "      <td>Rp.46500</td>\n",
       "      <td>1 HARI days</td>\n",
       "    </tr>\n",
       "  </tbody>\n",
       "</table>\n",
       "</div>"
      ],
      "text/plain": [
       "                                      Asal  \\\n",
       "0  Kabupaten Purwakarta-Jawa Barat (41119)   \n",
       "1  Kabupaten Purwakarta-Jawa Barat (41119)   \n",
       "\n",
       "                                   Tujuan                   Tipe Kurir  \\\n",
       "0  Kota Jakarta Utara-DKI Jakarta (14140)       pos-Paket Kilat Khusus   \n",
       "1  Kota Jakarta Utara-DKI Jakarta (14140)  pos-Express Next Day Barang   \n",
       "\n",
       "            Deskripsi tipe     Biaya Estimasi pengiriman  \n",
       "0       Paket Kilat Khusus  Rp.33000       1-2 HARI days  \n",
       "1  Express Next Day Barang  Rp.46500         1 HARI days  "
      ]
     },
     "metadata": {},
     "output_type": "display_data"
    }
   ],
   "source": [
    "user_interface()"
   ]
  },
  {
   "cell_type": "markdown",
   "metadata": {},
   "source": [
    "#### Dariswan Janweri, 02 November"
   ]
  }
 ],
 "metadata": {
  "kernelspec": {
   "display_name": "Python 3",
   "language": "python",
   "name": "python3"
  },
  "language_info": {
   "codemirror_mode": {
    "name": "ipython",
    "version": 3
   },
   "file_extension": ".py",
   "mimetype": "text/x-python",
   "name": "python",
   "nbconvert_exporter": "python",
   "pygments_lexer": "ipython3",
   "version": "3.6.10"
  }
 },
 "nbformat": 4,
 "nbformat_minor": 4
}
